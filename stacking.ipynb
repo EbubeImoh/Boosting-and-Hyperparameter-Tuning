{
 "cells": [
  {
   "cell_type": "code",
   "execution_count": 1,
   "metadata": {},
   "outputs": [],
   "source": [
    "import pandas as pd\n",
    "import numpy as np\n",
    "import warnings\n",
    "from sklearn.model_selection import train_test_split, cross_val_score, StratifiedKFold\n",
    "from sklearn.preprocessing import StandardScaler\n",
    "from sklearn.linear_model import LogisticRegression\n",
    "from sklearn.neighbors import KNeighborsClassifier\n",
    "from sklearn.ensemble import RandomForestClassifier, GradientBoostingClassifier\n",
    "from sklearn import metrics"
   ]
  },
  {
   "cell_type": "code",
   "execution_count": 2,
   "metadata": {},
   "outputs": [],
   "source": [
    "# Suppress future warnings\n",
    "warnings.filterwarnings(\"ignore\", category=FutureWarning)"
   ]
  },
  {
   "cell_type": "code",
   "execution_count": 3,
   "metadata": {},
   "outputs": [],
   "source": [
    "# Set seed for reproducibility\n",
    "seed = 2019\n",
    "np.random.seed(seed)"
   ]
  },
  {
   "cell_type": "code",
   "execution_count": 6,
   "metadata": {},
   "outputs": [],
   "source": [
    "# Read the data in\n",
    "df = pd.read_csv(\"diabetes.csv\")\n",
    "X = df.iloc[:, 0:8]  # independent variables\n",
    "y = df['Outcome'].values  # dependent variables"
   ]
  },
  {
   "cell_type": "code",
   "execution_count": 7,
   "metadata": {},
   "outputs": [],
   "source": [
    "# Normalize\n",
    "X = StandardScaler().fit_transform(X)"
   ]
  },
  {
   "cell_type": "code",
   "execution_count": 9,
   "metadata": {},
   "outputs": [],
   "source": [
    "# Evaluate the model by splitting into train and test sets\n",
    "X_train, X_test, y_train, y_test = train_test_split(X, y, test_size=0.2, random_state=seed)\n",
    "kfold = StratifiedKFold(n_splits=5, random_state=seed, shuffle=True)"
   ]
  },
  {
   "cell_type": "code",
   "execution_count": 10,
   "metadata": {},
   "outputs": [],
   "source": [
    "num_trees = 10\n",
    "verbose = True  # to print the progress"
   ]
  },
  {
   "cell_type": "code",
   "execution_count": 11,
   "metadata": {},
   "outputs": [],
   "source": [
    "# Define base classifiers\n",
    "clfs = [\n",
    "    KNeighborsClassifier(),\n",
    "    RandomForestClassifier(n_estimators=num_trees, random_state=seed),\n",
    "    GradientBoostingClassifier(n_estimators=num_trees, random_state=seed)\n",
    "]"
   ]
  },
  {
   "cell_type": "code",
   "execution_count": 12,
   "metadata": {},
   "outputs": [],
   "source": [
    "# Creating train and test sets for blending\n",
    "dataset_blend_train = np.zeros((X_train.shape[0], len(clfs)))\n",
    "dataset_blend_test = np.zeros((X_test.shape[0], len(clfs)))"
   ]
  },
  {
   "cell_type": "code",
   "execution_count": 13,
   "metadata": {},
   "outputs": [
    {
     "name": "stdout",
     "output_type": "stream",
     "text": [
      "5-fold cross validation:\n",
      "\n",
      "##### Base Model 0 #####\n",
      "Train CV Accuracy: 0.73 (+/- 0.01)\n",
      "Train Accuracy: 0.83\n",
      "Test Accuracy: 0.75\n",
      "##### Base Model 1 #####\n",
      "Train CV Accuracy: 0.74 (+/- 0.02)\n",
      "Train Accuracy: 0.98\n",
      "Test Accuracy: 0.79\n",
      "##### Base Model 2 #####\n",
      "Train CV Accuracy: 0.74 (+/- 0.01)\n",
      "Train Accuracy: 0.80\n",
      "Test Accuracy: 0.80\n"
     ]
    }
   ],
   "source": [
    "print('5-fold cross validation:\\n')\n",
    "for i, clf in enumerate(clfs):\n",
    "    scores = cross_val_score(clf, X_train, y_train, cv=kfold, scoring='accuracy')\n",
    "    print(f\"##### Base Model {i} #####\")\n",
    "    print(\"Train CV Accuracy: %0.2f (+/- %0.2f)\" % (scores.mean(), scores.std()))\n",
    "    \n",
    "    clf.fit(X_train, y_train)\n",
    "    print(\"Train Accuracy: %0.2f\" % (metrics.accuracy_score(clf.predict(X_train), y_train)))\n",
    "    \n",
    "    dataset_blend_train[:, i] = clf.predict_proba(X_train)[:, 1]\n",
    "    dataset_blend_test[:, i] = clf.predict_proba(X_test)[:, 1]\n",
    "    print(\"Test Accuracy: %0.2f\" % (metrics.accuracy_score(clf.predict(X_test), y_test)))"
   ]
  },
  {
   "cell_type": "code",
   "execution_count": 14,
   "metadata": {},
   "outputs": [
    {
     "name": "stdout",
     "output_type": "stream",
     "text": [
      "##### Meta Model #####\n",
      "Train CV Accuracy: 0.98 (+/- 0.01)\n",
      "Train Accuracy: 0.98\n",
      "Test Accuracy: 0.79\n"
     ]
    }
   ],
   "source": [
    "print(\"##### Meta Model #####\")\n",
    "meta_clf = LogisticRegression()\n",
    "scores = cross_val_score(meta_clf, dataset_blend_train, y_train, cv=kfold, scoring='accuracy')\n",
    "meta_clf.fit(dataset_blend_train, y_train)\n",
    "print(\"Train CV Accuracy: %0.2f (+/- %0.2f)\" % (scores.mean(), scores.std()))\n",
    "print(\"Train Accuracy: %0.2f\" % (metrics.accuracy_score(meta_clf.predict(dataset_blend_train), y_train)))\n",
    "print(\"Test Accuracy: %0.2f\" % (metrics.accuracy_score(meta_clf.predict(dataset_blend_test), y_test)))"
   ]
  },
  {
   "cell_type": "code",
   "execution_count": null,
   "metadata": {},
   "outputs": [],
   "source": []
  }
 ],
 "metadata": {
  "kernelspec": {
   "display_name": "base",
   "language": "python",
   "name": "python3"
  },
  "language_info": {
   "codemirror_mode": {
    "name": "ipython",
    "version": 3
   },
   "file_extension": ".py",
   "mimetype": "text/x-python",
   "name": "python",
   "nbconvert_exporter": "python",
   "pygments_lexer": "ipython3",
   "version": "3.12.4"
  }
 },
 "nbformat": 4,
 "nbformat_minor": 2
}
