{
 "cells": [
  {
   "cell_type": "code",
   "execution_count": 2,
   "metadata": {},
   "outputs": [],
   "source": [
    "#Some classifiers of Scikit-learn do not support the predict_proba method."
   ]
  },
  {
   "cell_type": "code",
   "execution_count": 3,
   "metadata": {},
   "outputs": [],
   "source": [
    "import pandas as pd\n",
    "import numpy as np\n",
    "from sklearn import metrics\n",
    "from sklearn.linear_model import LogisticRegression\n",
    "from sklearn.ensemble import RandomForestClassifier, GradientBoostingClassifier\n",
    "from mlxtend.classifier import EnsembleVoteClassifier\n",
    "from sklearn.model_selection import train_test_split, cross_val_score"
   ]
  },
  {
   "cell_type": "code",
   "execution_count": 4,
   "metadata": {},
   "outputs": [],
   "source": [
    "# Set seed for reproducibility\n",
    "np.random.seed(2017)"
   ]
  },
  {
   "cell_type": "code",
   "execution_count": 5,
   "metadata": {},
   "outputs": [],
   "source": [
    "# Read the data\n",
    "df = pd.read_csv(\"diabetes.csv\")\n",
    "X = df.iloc[:, :8]     # Independent variables\n",
    "y = df['Outcome']       # Dependent variable"
   ]
  },
  {
   "cell_type": "code",
   "execution_count": 6,
   "metadata": {},
   "outputs": [],
   "source": [
    "# evaluate the model by splitting into train and test sets\n",
    "X_train, X_test, y_train, y_test = train_test_split(X, y, test_size=0.3, random_state=2017)"
   ]
  },
  {
   "cell_type": "code",
   "execution_count": 10,
   "metadata": {},
   "outputs": [],
   "source": [
    "# Define the individual classifiers\n",
    "LR = LogisticRegression(max_iter=200, random_state=2017)\n",
    "RF = RandomForestClassifier(n_estimators=100, random_state=2017)\n",
    "GBC = GradientBoostingClassifier(n_estimators=100, random_state=2017)"
   ]
  },
  {
   "cell_type": "code",
   "execution_count": 11,
   "metadata": {},
   "outputs": [],
   "source": [
    "# Define ensemble classifiers with hard and soft voting\n",
    "ECH = EnsembleVoteClassifier(clfs=[LR, RF, GBC], voting='hard')\n",
    "ECS = EnsembleVoteClassifier(clfs=[LR, RF, GBC], voting='soft', weights=[1, 1, 1])"
   ]
  },
  {
   "cell_type": "code",
   "execution_count": 12,
   "metadata": {},
   "outputs": [
    {
     "name": "stdout",
     "output_type": "stream",
     "text": [
      "5-fold cross-validation:\n",
      "\n",
      "Train CV Accuracy: 0.76 (+/- 0.02) [Ensemble Hard Voting]\n",
      "Test Accuracy: 0.80 [Ensemble Hard Voting]\n",
      "\n",
      "Train CV Accuracy: 0.76 (+/- 0.03) [Ensemble Soft Voting]\n",
      "Test Accuracy: 0.78 [Ensemble Soft Voting]\n",
      "\n"
     ]
    }
   ],
   "source": [
    "# Evaluate ensemble classifiers using cross-validation\n",
    "print('5-fold cross-validation:\\n')\n",
    "for clf, label in zip([ECH, ECS],\n",
    "                      ['Ensemble Hard Voting',\n",
    "                       'Ensemble Soft Voting']):\n",
    "    scores = cross_val_score(clf, X_train, y_train, cv=5, scoring='accuracy')\n",
    "    print(\"Train CV Accuracy: %0.2f (+/- %0.2f) [%s]\" % (scores.mean(), scores.std(), label))\n",
    "    clf.fit(X_train, y_train)\n",
    "    print(\"Test Accuracy: %0.2f [%s]\" % (metrics.accuracy_score(clf.predict(X_test), y_test), label))\n",
    "    print()"
   ]
  },
  {
   "cell_type": "code",
   "execution_count": null,
   "metadata": {},
   "outputs": [],
   "source": []
  }
 ],
 "metadata": {
  "kernelspec": {
   "display_name": "base",
   "language": "python",
   "name": "python3"
  },
  "language_info": {
   "codemirror_mode": {
    "name": "ipython",
    "version": 3
   },
   "file_extension": ".py",
   "mimetype": "text/x-python",
   "name": "python",
   "nbconvert_exporter": "python",
   "pygments_lexer": "ipython3",
   "version": "3.12.4"
  }
 },
 "nbformat": 4,
 "nbformat_minor": 2
}
