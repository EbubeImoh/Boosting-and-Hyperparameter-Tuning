{
 "cells": [
  {
   "cell_type": "code",
   "execution_count": 5,
   "metadata": {},
   "outputs": [],
   "source": [
    "# Install bayesian-optimization package if not already installed\n",
    "# !pip install bayesian-optimization\n",
    "\n",
    "from bayes_opt import BayesianOptimization\n",
    "from sklearn.model_selection import cross_val_score\n",
    "from sklearn.ensemble import RandomForestClassifier as RFC\n",
    "import numpy as np\n",
    "import pandas as pd\n",
    "from sklearn.preprocessing import StandardScaler\n",
    "from sklearn.model_selection import train_test_split, StratifiedKFold"
   ]
  },
  {
   "cell_type": "code",
   "execution_count": 6,
   "metadata": {},
   "outputs": [],
   "source": [
    "def rfc_cv(n_estimators, min_samples_split, max_features, data, targets):\n",
    "    \"\"\"Random Forest cross validation.\n",
    "    This function will instantiate a random forest classifier with\n",
    "    parameters n_estimators, min_samples_split, and max_features.\n",
    "    Combined with data and targets this will be used to perform cross-validation.\n",
    "    The result of cross-validation is returned. Our goal is to find\n",
    "    combinations of n_estimators, min_samples_split, and max_features that\n",
    "    maximizes the mean cross-validation score.\n",
    "    \"\"\"\n",
    "    estimator = RFC(\n",
    "        n_estimators=int(n_estimators),\n",
    "        min_samples_split=int(min_samples_split),\n",
    "        max_features=max(min(max_features, 0.999), 1e-3),\n",
    "        random_state=2\n",
    "    )\n",
    "    cval = cross_val_score(estimator, data, targets, scoring='accuracy', cv=4)\n",
    "    return cval.mean()"
   ]
  },
  {
   "cell_type": "code",
   "execution_count": 7,
   "metadata": {},
   "outputs": [],
   "source": [
    "def optimize_rfc(data, targets):\n",
    "    \"\"\"Apply Bayesian Optimization to Random Forest parameters.\"\"\"\n",
    "    def rfc_crossval(n_estimators, min_samples_split, max_features):\n",
    "        \"\"\"Wrapper of RandomForest cross-validation.\n",
    "        Ensure n_estimators and min_samples_split are cast to integers.\n",
    "        Ensure max_features is within (0, 1) range.\n",
    "        \"\"\"\n",
    "        return rfc_cv(\n",
    "            n_estimators=n_estimators,\n",
    "            min_samples_split=min_samples_split,\n",
    "            max_features=max_features,\n",
    "            data=data,\n",
    "            targets=targets,\n",
    "        )\n",
    "\n",
    "    optimizer = BayesianOptimization(\n",
    "        f=rfc_crossval,\n",
    "        pbounds={\n",
    "            \"n_estimators\": (10, 250),\n",
    "            \"min_samples_split\": (2, 25),\n",
    "            \"max_features\": (0.1, 0.999),\n",
    "        },\n",
    "        random_state=1234,\n",
    "        verbose=2\n",
    "    )\n",
    "    \n",
    "    optimizer.maximize(n_iter=10)\n",
    "    print(\"Final result:\", optimizer.max)\n",
    "    return optimizer"
   ]
  },
  {
   "cell_type": "code",
   "execution_count": 8,
   "metadata": {},
   "outputs": [],
   "source": [
    "# Set seed for reproducibility\n",
    "seed = 2017\n",
    "np.random.seed(seed)"
   ]
  },
  {
   "cell_type": "code",
   "execution_count": 9,
   "metadata": {},
   "outputs": [],
   "source": [
    "# Read the data in\n",
    "df = pd.read_csv(\"diabetes.csv\")\n",
    "X = df.iloc[:, :8].values  # Independent variables\n",
    "y = df['Outcome'].values  # Dependent variables"
   ]
  },
  {
   "cell_type": "code",
   "execution_count": 10,
   "metadata": {},
   "outputs": [],
   "source": [
    "# Normalize\n",
    "X = StandardScaler().fit_transform(X)"
   ]
  },
  {
   "cell_type": "code",
   "execution_count": 11,
   "metadata": {},
   "outputs": [],
   "source": [
    "# Split the dataset into train and test sets\n",
    "X_train, X_test, y_train, y_test = train_test_split(X, y, test_size=0.3, random_state=seed)"
   ]
  },
  {
   "cell_type": "code",
   "execution_count": 12,
   "metadata": {},
   "outputs": [
    {
     "name": "stdout",
     "output_type": "stream",
     "text": [
      "--- Optimizing Random Forest ---\n",
      "|   iter    |  target   | max_fe... | min_sa... | n_esti... |\n",
      "-------------------------------------------------------------\n",
      "| \u001b[39m1        \u001b[39m | \u001b[39m0.7486   \u001b[39m | \u001b[39m0.2722   \u001b[39m | \u001b[39m16.31    \u001b[39m | \u001b[39m115.1    \u001b[39m |\n",
      "| \u001b[39m2        \u001b[39m | \u001b[39m0.7467   \u001b[39m | \u001b[39m0.806    \u001b[39m | \u001b[39m19.94    \u001b[39m | \u001b[39m75.42    \u001b[39m |\n",
      "| \u001b[39m3        \u001b[39m | \u001b[39m0.7448   \u001b[39m | \u001b[39m0.3485   \u001b[39m | \u001b[39m20.44    \u001b[39m | \u001b[39m240.0    \u001b[39m |\n",
      "| \u001b[35m4        \u001b[39m | \u001b[35m0.7579   \u001b[39m | \u001b[35m0.8875   \u001b[39m | \u001b[35m10.23    \u001b[39m | \u001b[35m130.2    \u001b[39m |\n",
      "| \u001b[39m5        \u001b[39m | \u001b[39m0.7486   \u001b[39m | \u001b[39m0.7144   \u001b[39m | \u001b[39m18.39    \u001b[39m | \u001b[39m98.86    \u001b[39m |\n",
      "| \u001b[39m6        \u001b[39m | \u001b[39m0.7504   \u001b[39m | \u001b[39m0.4713   \u001b[39m | \u001b[39m23.55    \u001b[39m | \u001b[39m96.06    \u001b[39m |\n",
      "| \u001b[39m7        \u001b[39m | \u001b[39m0.7467   \u001b[39m | \u001b[39m0.638    \u001b[39m | \u001b[39m6.223    \u001b[39m | \u001b[39m160.9    \u001b[39m |\n",
      "| \u001b[39m8        \u001b[39m | \u001b[39m0.7486   \u001b[39m | \u001b[39m0.5152   \u001b[39m | \u001b[39m9.149    \u001b[39m | \u001b[39m139.0    \u001b[39m |\n",
      "| \u001b[39m9        \u001b[39m | \u001b[39m0.7504   \u001b[39m | \u001b[39m0.9029   \u001b[39m | \u001b[39m18.17    \u001b[39m | \u001b[39m241.5    \u001b[39m |\n",
      "| \u001b[39m10       \u001b[39m | \u001b[39m0.7579   \u001b[39m | \u001b[39m0.8899   \u001b[39m | \u001b[39m10.23    \u001b[39m | \u001b[39m130.2    \u001b[39m |\n",
      "| \u001b[39m11       \u001b[39m | \u001b[39m0.7504   \u001b[39m | \u001b[39m0.999    \u001b[39m | \u001b[39m11.97    \u001b[39m | \u001b[39m128.4    \u001b[39m |\n",
      "| \u001b[39m12       \u001b[39m | \u001b[39m0.7467   \u001b[39m | \u001b[39m0.8317   \u001b[39m | \u001b[39m9.111    \u001b[39m | \u001b[39m131.4    \u001b[39m |\n",
      "| \u001b[39m13       \u001b[39m | \u001b[39m0.756    \u001b[39m | \u001b[39m0.9109   \u001b[39m | \u001b[39m10.7     \u001b[39m | \u001b[39m129.7    \u001b[39m |\n",
      "| \u001b[39m14       \u001b[39m | \u001b[39m0.7485   \u001b[39m | \u001b[39m0.1359   \u001b[39m | \u001b[39m10.71    \u001b[39m | \u001b[39m130.5    \u001b[39m |\n",
      "| \u001b[39m15       \u001b[39m | \u001b[39m0.7505   \u001b[39m | \u001b[39m0.999    \u001b[39m | \u001b[39m9.999    \u001b[39m | \u001b[39m129.6    \u001b[39m |\n",
      "=============================================================\n",
      "Final result: {'target': 0.7578911000552792, 'params': {'max_features': 0.8874634386331431, 'min_samples_split': 10.229797209030933, 'n_estimators': 130.2388301256301}}\n"
     ]
    },
    {
     "data": {
      "text/plain": [
       "<bayes_opt.bayesian_optimization.BayesianOptimization at 0x12c5f9970>"
      ]
     },
     "execution_count": 12,
     "metadata": {},
     "output_type": "execute_result"
    }
   ],
   "source": [
    "# Perform Bayesian Optimization\n",
    "print(\"--- Optimizing Random Forest ---\")\n",
    "optimize_rfc(X_train, y_train)"
   ]
  },
  {
   "cell_type": "code",
   "execution_count": null,
   "metadata": {},
   "outputs": [],
   "source": []
  }
 ],
 "metadata": {
  "kernelspec": {
   "display_name": "base",
   "language": "python",
   "name": "python3"
  },
  "language_info": {
   "codemirror_mode": {
    "name": "ipython",
    "version": 3
   },
   "file_extension": ".py",
   "mimetype": "text/x-python",
   "name": "python",
   "nbconvert_exporter": "python",
   "pygments_lexer": "ipython3",
   "version": "3.12.4"
  }
 },
 "nbformat": 4,
 "nbformat_minor": 2
}
